{
 "cells": [
  {
   "cell_type": "code",
   "execution_count": 1,
   "metadata": {},
   "outputs": [],
   "source": [
    "import praw\n",
    "import matplotlib.pyplot as plt\n",
    "import numpy as np\n",
    "from psaw import PushshiftAPI\n",
    "import nltk\n",
    "import datetime as dt\n",
    "from sklearn.naive_bayes import MultinomialNB, GaussianNB, BernoulliNB\n",
    "from nltk.classify.scikitlearn import SklearnClassifier\n",
    "from sklearn.linear_model import LogisticRegression, SGDClassifier\n",
    "from sklearn.svm import SVC, LinearSVC, NuSVC\n",
    "from nltk.corpus import stopwords\n",
    "import string\n",
    "from sklearn.feature_extraction.text import CountVectorizer\n",
    "from sklearn.feature_extraction.text import TfidfTransformer\n",
    "from sklearn.model_selection import GridSearchCV\n",
    "from sklearn.pipeline import Pipeline\n",
    "from nltk import word_tokenize          \n",
    "from nltk.stem import WordNetLemmatizer"
   ]
  },
  {
   "cell_type": "markdown",
   "metadata": {},
   "source": [
    "# Initialize API wrapper"
   ]
  },
  {
   "cell_type": "code",
   "execution_count": 2,
   "metadata": {},
   "outputs": [
    {
     "name": "stdout",
     "output_type": "stream",
     "text": [
      "True\n"
     ]
    }
   ],
   "source": [
    "reddit = praw.Reddit(client_id='',\n",
    "                      client_secret='',\n",
    "                      user_agent='test')\n",
    "print(reddit.read_only) \n",
    "\n",
    "api = PushshiftAPI(reddit)"
   ]
  },
  {
   "cell_type": "markdown",
   "metadata": {},
   "source": [
    "# Grab data from subreddit"
   ]
  },
  {
   "cell_type": "code",
   "execution_count": 3,
   "metadata": {},
   "outputs": [],
   "source": [
    "start_epoch = int(dt.datetime(2018, 11, 1).timestamp())\n",
    "end_epoch = int(dt.datetime(2019, 2, 24).timestamp())\n",
    "\n",
    "sub_psaw = list(api.search_submissions(before=end_epoch, after=start_epoch,\n",
    "                            subreddit='kanye',\n",
    "                            limit=40000))"
   ]
  },
  {
   "cell_type": "code",
   "execution_count": 4,
   "metadata": {},
   "outputs": [
    {
     "data": {
      "text/plain": [
       "19665"
      ]
     },
     "execution_count": 4,
     "metadata": {},
     "output_type": "execute_result"
    }
   ],
   "source": [
    "len(sub_psaw)"
   ]
  },
  {
   "cell_type": "markdown",
   "metadata": {},
   "source": [
    "#  Clean and explore data,  construct features"
   ]
  },
  {
   "cell_type": "code",
   "execution_count": 5,
   "metadata": {},
   "outputs": [],
   "source": [
    "# for sub in sub_psaw:\n",
    "#     print(sub.selftext)"
   ]
  },
  {
   "cell_type": "code",
   "execution_count": 6,
   "metadata": {},
   "outputs": [],
   "source": [
    "# Clean out posts that have been removed/deleted\n",
    "cleaned_inds = [('[removed]' not in sub.selftext) and ('[deleted]' not in sub.selftext) for sub in sub_psaw]\n",
    "sub_psaw = np.asarray(sub_psaw)"
   ]
  },
  {
   "cell_type": "code",
   "execution_count": 7,
   "metadata": {},
   "outputs": [
    {
     "data": {
      "text/plain": [
       "14936"
      ]
     },
     "execution_count": 7,
     "metadata": {},
     "output_type": "execute_result"
    }
   ],
   "source": [
    "len(sub_psaw[cleaned_inds])"
   ]
  },
  {
   "cell_type": "code",
   "execution_count": 8,
   "metadata": {},
   "outputs": [],
   "source": [
    "upvote_ratios = [sub.upvote_ratio for sub in sub_psaw[cleaned_inds]]\n",
    "score = [sub.score for sub in sub_psaw[cleaned_inds]]"
   ]
  },
  {
   "cell_type": "code",
   "execution_count": 9,
   "metadata": {},
   "outputs": [],
   "source": [
    "def averaged_profile(r, data, binwidth):\n",
    "    r = np.asarray(r) / binwidth\n",
    "    r = r.astype(np.int32)\n",
    "    data = np.asarray(data)\n",
    "    av = np.bincount(r, data) / np.bincount(r)\n",
    "    sigma = np.sqrt((np.bincount(r, data*data) / np.bincount(r))-(av*av))\n",
    "    return  av, sigma"
   ]
  },
  {
   "cell_type": "code",
   "execution_count": 10,
   "metadata": {},
   "outputs": [
    {
     "data": {
      "image/png": "[encoded data removed]",
      "text/plain": [
       "<Figure size 432x288 with 1 Axes>"
      ]
     },
     "metadata": {
      "needs_background": "light"
     },
     "output_type": "display_data"
    }
   ],
   "source": [
    "plt.hist(upvote_ratios)\n",
    "plt.xlabel('Upvote Ratios')\n",
    "plt.title('Samples skew towards high upvote ratio')\n",
    "plt.show()"
   ]
  },
  {
   "cell_type": "code",
   "execution_count": 29,
   "metadata": {},
   "outputs": [
    {
     "name": "stderr",
     "output_type": "stream",
     "text": [
      "/Users/vish/anaconda/envs/ml/lib/python3.6/site-packages/ipykernel_launcher.py:5: RuntimeWarning: invalid value encountered in true_divide\n",
      "  \"\"\"\n",
      "/Users/vish/anaconda/envs/ml/lib/python3.6/site-packages/ipykernel_launcher.py:6: RuntimeWarning: invalid value encountered in true_divide\n",
      "  \n"
     ]
    },
    {
     "data": {
      "image/png": "[encoded data removed]",
      "text/plain": [
       "<Figure size 432x288 with 1 Axes>"
      ]
     },
     "metadata": {
      "needs_background": "light"
     },
     "output_type": "display_data"
    }
   ],
   "source": [
    "av_ur, sigma_ur = averaged_profile(score, upvote_ratios, 5)\n",
    "av_s, sigma_s = averaged_profile(score, score, 5)\n",
    "plt.fill_between(av_s, av_ur+sigma_ur, av_ur-sigma_ur, alpha=.5)\n",
    "plt.plot(av_s, av_ur, lw=2)\n",
    "plt.xlim(0,250)\n",
    "plt.xlabel('Total Upvotes')\n",
    "plt.ylabel('Upvote Ratio')\n",
    "plt.title('Posts with high downvote # don\\'t get many total votes')\n",
    "plt.show()\n",
    "plt.close()"
   ]
  },
  {
   "cell_type": "code",
   "execution_count": 12,
   "metadata": {},
   "outputs": [],
   "source": [
    "titles_raw = [sub.title for sub in sub_psaw[cleaned_inds]]\n",
    "target = [int(sub.upvote_ratio*10) for sub in sub_psaw[cleaned_inds]]\n",
    "# target = [sub.upvote_ratio>.8 for sub in sub_psaw[cleaned_inds]]\n",
    "\n",
    "train_raw = titles_raw[:int(len(titles_raw)//1.5)]\n",
    "test_raw = titles_raw[int(len(titles_raw)//1.5):]\n",
    "\n",
    "target_train = target[:int(len(titles_raw)//1.5)]\n",
    "target_test = target[int(len(titles_raw)//1.5):]\n"
   ]
  },
  {
   "cell_type": "code",
   "execution_count": 13,
   "metadata": {},
   "outputs": [],
   "source": [
    "def text_process(text):\n",
    "    # Remove Punctuation\n",
    "    nopunc = [char for char in text if char not in string.punctuation]\n",
    "    nopunc = ''.join(nopunc)\n",
    "    # Remove Stopwords\n",
    "    return [word for word in nopunc.split() if word.lower() not in stopwords.words('english')]"
   ]
  },
  {
   "cell_type": "code",
   "execution_count": 14,
   "metadata": {},
   "outputs": [],
   "source": [
    "class LemmaTokenizer(object):\n",
    "    def __init__(self):\n",
    "        self.wnl = WordNetLemmatizer()\n",
    "    def __call__(self, articles):\n",
    "        return [self.wnl.lemmatize(t) for t in word_tokenize(articles)]\n",
    "\n",
    "tf_vectorizer = CountVectorizer(tokenizer=LemmaTokenizer(),\n",
    "                                strip_accents = 'unicode', \n",
    "                                analyzer=text_process, \n",
    "                                lowercase = True) "
   ]
  },
  {
   "cell_type": "markdown",
   "metadata": {},
   "source": [
    "# Construct pipeline and fit"
   ]
  },
  {
   "cell_type": "code",
   "execution_count": 15,
   "metadata": {},
   "outputs": [],
   "source": [
    "text_clf = Pipeline([('vect', tf_vectorizer),\n",
    "                     ('tfidf', TfidfTransformer()),\n",
    "                     ('clf', MultinomialNB()),\n",
    "])"
   ]
  },
  {
   "cell_type": "code",
   "execution_count": 16,
   "metadata": {},
   "outputs": [],
   "source": [
    "text_clf = text_clf.fit(np.asarray(train_raw), np.asarray(target_train))"
   ]
  },
  {
   "cell_type": "code",
   "execution_count": 21,
   "metadata": {},
   "outputs": [
    {
     "name": "stdout",
     "output_type": "stream",
     "text": [
      "0-tolerance accuracy=0.453906\n",
      "1-tolerance accuracy=0.833300\n",
      "2-tolerance accuracy=0.906206\n"
     ]
    }
   ],
   "source": [
    "predicted = text_clf.predict(test_raw)\n",
    "tol0 = np.mean(np.abs(predicted - target_test) < 1)\n",
    "print('0-tolerance accuracy=%f'%tol0)\n",
    "tol1 = np.mean(np.abs(predicted - target_test) < 2)\n",
    "print('1-tolerance accuracy=%f'%tol1)\n",
    "tol2 = np.mean(np.abs(predicted - target_test) < 3)\n",
    "print('2-tolerance accuracy=%f'%tol2)"
   ]
  },
  {
   "cell_type": "code",
   "execution_count": 23,
   "metadata": {},
   "outputs": [
    {
     "name": "stdout",
     "output_type": "stream",
     "text": [
      "Mean Deviance = 0.891143\n"
     ]
    },
    {
     "data": {
      "text/plain": [
       "Text(0.5,0,'Deviation from Prediction')"
      ]
     },
     "execution_count": 23,
     "metadata": {},
     "output_type": "execute_result"
    },
    {
     "data": {
      "image/png": "[encoded data removed]",
      "text/plain": [
       "<Figure size 432x288 with 1 Axes>"
      ]
     },
     "metadata": {
      "needs_background": "light"
     },
     "output_type": "display_data"
    }
   ],
   "source": [
    "print('Mean Deviance = %f'%np.mean(abs(target_test-predicted)))\n",
    "_ = plt.hist(abs(target_test-predicted))\n",
    "plt.xlabel('Deviation from Prediction')"
   ]
  },
  {
   "cell_type": "markdown",
   "metadata": {},
   "source": [
    "### Try changing classifier:"
   ]
  },
  {
   "cell_type": "code",
   "execution_count": 24,
   "metadata": {},
   "outputs": [],
   "source": [
    "text_clf_svm = Pipeline([('vect', tf_vectorizer),\n",
    "                     ('tfidf', TfidfTransformer()),\n",
    "                     ('clf-svm', SGDClassifier(loss='hinge', penalty='l2',\n",
    "                                           alpha=1e-3, max_iter=5, random_state=42)),\n",
    "])\n",
    "\n",
    "_ = text_clf_svm.fit(train_raw, target_train)"
   ]
  },
  {
   "cell_type": "code",
   "execution_count": 25,
   "metadata": {},
   "outputs": [
    {
     "name": "stdout",
     "output_type": "stream",
     "text": [
      "0-tolerance accuracy=0.430207\n",
      "1-tolerance accuracy=0.796345\n",
      "2-tolerance accuracy=0.890339\n"
     ]
    }
   ],
   "source": [
    "predicted_svm = text_clf_svm.predict(test_raw)\n",
    "tol0 = np.mean(np.abs(predicted_svm - target_test) < 1)\n",
    "print('0-tolerance accuracy=%f'%tol0)\n",
    "tol1 = np.mean(np.abs(predicted_svm - target_test) < 2)\n",
    "print('1-tolerance accuracy=%f'%tol1)\n",
    "tol2 = np.mean(np.abs(predicted_svm - target_test) < 3)\n",
    "print('2-tolerance accuracy=%f'%tol2)"
   ]
  },
  {
   "cell_type": "code",
   "execution_count": 26,
   "metadata": {},
   "outputs": [
    {
     "name": "stdout",
     "output_type": "stream",
     "text": [
      "Mean Deviance = 0.984736\n"
     ]
    },
    {
     "data": {
      "text/plain": [
       "Text(0.5,0,'Deviation from Prediction')"
      ]
     },
     "execution_count": 26,
     "metadata": {},
     "output_type": "execute_result"
    },
    {
     "data": {
      "image/png": "[encoded data removed]",
      "text/plain": [
       "<Figure size 432x288 with 1 Axes>"
      ]
     },
     "metadata": {
      "needs_background": "light"
     },
     "output_type": "display_data"
    }
   ],
   "source": [
    "print('Mean Deviance = %f'%np.mean(abs(target_test-predicted_svm)))\n",
    "_ = plt.hist(abs(target_test-predicted_svm))\n",
    "plt.xlabel('Deviation from Prediction')"
   ]
  },
  {
   "cell_type": "markdown",
   "metadata": {},
   "source": [
    "### Finally, be more robust with gridsearch:"
   ]
  },
  {
   "cell_type": "code",
   "execution_count": 27,
   "metadata": {},
   "outputs": [
    {
     "name": "stderr",
     "output_type": "stream",
     "text": [
      "/Users/vish/anaconda/envs/ml/lib/python3.6/site-packages/sklearn/model_selection/_split.py:605: Warning: The least populated class in y has only 1 members, which is too few. The minimum number of members in any class cannot be less than n_splits=3.\n",
      "  % (min_groups, self.n_splits)), Warning)\n"
     ]
    },
    {
     "name": "stdout",
     "output_type": "stream",
     "text": [
      "0.39811188108868134\n",
      "{'clf__alpha': 0.01, 'tfidf__use_idf': False, 'vect__ngram_range': (1, 1)}\n"
     ]
    }
   ],
   "source": [
    "parameters = {'vect__ngram_range': [(1, 1), (1, 3)],\n",
    "              'tfidf__use_idf': (True, False),\n",
    "              'clf__alpha': (1e-2, 1e-3),\n",
    "}\n",
    "\n",
    "gs_clf = GridSearchCV(text_clf, parameters, n_jobs=-1)\n",
    "gs_clf = gs_clf.fit(train_raw, target_train)\n",
    "\n",
    "print(gs_clf.best_score_)\n",
    "print(gs_clf.best_params_)"
   ]
  },
  {
   "cell_type": "code",
   "execution_count": 28,
   "metadata": {},
   "outputs": [
    {
     "name": "stderr",
     "output_type": "stream",
     "text": [
      "/Users/vish/anaconda/envs/ml/lib/python3.6/site-packages/sklearn/model_selection/_split.py:605: Warning: The least populated class in y has only 1 members, which is too few. The minimum number of members in any class cannot be less than n_splits=3.\n",
      "  % (min_groups, self.n_splits)), Warning)\n"
     ]
    },
    {
     "name": "stdout",
     "output_type": "stream",
     "text": [
      "0.43035050718087775\n",
      "{'clf-svm__alpha': 0.01, 'tfidf__use_idf': True, 'vect__ngram_range': (1, 1)}\n"
     ]
    }
   ],
   "source": [
    "parameters_svm = {'vect__ngram_range': [(1, 1), (1, 3)],\n",
    "              'tfidf__use_idf': (True, False),\n",
    "              'clf-svm__alpha': (1e-2, 1e-3),\n",
    "}\n",
    "gs_clf_svm = GridSearchCV(text_clf_svm, parameters_svm, n_jobs=-1)\n",
    "gs_clf_svm = gs_clf_svm.fit(train_raw, target_train)\n",
    "print(gs_clf_svm.best_score_)\n",
    "print(gs_clf_svm.best_params_)"
   ]
  }
 ],
 "metadata": {
  "kernelspec": {
   "display_name": "Python 3",
   "language": "python",
   "name": "python3"
  },
  "language_info": {
   "codemirror_mode": {
    "name": "ipython",
    "version": 3
   },
   "file_extension": ".py",
   "mimetype": "text/x-python",
   "name": "python",
   "nbconvert_exporter": "python",
   "pygments_lexer": "ipython3",
   "version": "3.6.7"
  }
 },
 "nbformat": 4,
 "nbformat_minor": 2
}
